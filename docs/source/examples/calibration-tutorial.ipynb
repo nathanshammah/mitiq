{
 "cells": [
  {
   "cell_type": "markdown",
   "id": "1035ec11",
   "metadata": {},
   "source": [
    "# Breaking into error mitigation\n",
    "\n",
    "Things that it gets covered:\n",
    "- What error mitigation technique should I use? \n",
    "Getting started with Mitiq's calibration module.\n",
    "- Tutorial on a simple use case: Randomized Benchmarking circuits\n",
    "- Run with default ZNESettings  \n",
    "- Explore results with settings changes\n",
    "- Conclusion"
   ]
  },
  {
   "cell_type": "code",
   "execution_count": 2,
   "id": "d6db1844",
   "metadata": {},
   "outputs": [],
   "source": [
    "import cirq\n",
    "import numpy as np\n",
    "from mitiq import MeasurementResult"
   ]
  },
  {
   "cell_type": "code",
   "execution_count": 3,
   "id": "8bf34400",
   "metadata": {},
   "outputs": [],
   "source": [
    "def execute(circuit, noise_level=0.001):\n",
    "    circuit = circuit.with_noise(cirq.amplitude_damp(noise_level))\n",
    "    result = cirq.DensityMatrixSimulator().run(circuit, repetitions=100)\n",
    "    bitstrings = np.column_stack(list(result.measurements.values()))\n",
    "    return MeasurementResult(bitstrings)"
   ]
  },
  {
   "cell_type": "code",
   "execution_count": 4,
   "id": "9413b610",
   "metadata": {},
   "outputs": [],
   "source": [
    "from mitiq.calibration import Calibrator, ZNESettings, execute_with_mitigation"
   ]
  },
  {
   "cell_type": "code",
   "execution_count": 5,
   "id": "08e3f196",
   "metadata": {},
   "outputs": [
    {
     "name": "stdout",
     "output_type": "stream",
     "text": [
      "{'noisy_executions': 24, 'ideal_executions': 0}\n"
     ]
    },
    {
     "name": "stderr",
     "output_type": "stream",
     "text": [
      "/Users/nathanshammah/github/mitiq/mitiq/zne/inference.py:107: UserWarning: The input circuit is very short. This may reduce the accuracy of noise scaling.\n",
      "  warnings.warn(\n",
      "/Users/nathanshammah/github/mitiq/mitiq/zne/inference.py:107: UserWarning: The input circuit is very short. This may reduce the accuracy of noise scaling.\n",
      "  warnings.warn(\n",
      "/Users/nathanshammah/github/mitiq/mitiq/zne/inference.py:107: UserWarning: The input circuit is very short. This may reduce the accuracy of noise scaling.\n",
      "  warnings.warn(\n",
      "/Users/nathanshammah/github/mitiq/mitiq/zne/inference.py:107: UserWarning: The input circuit is very short. This may reduce the accuracy of noise scaling.\n",
      "  warnings.warn(\n",
      "/Users/nathanshammah/github/mitiq/mitiq/zne/inference.py:107: UserWarning: The input circuit is very short. This may reduce the accuracy of noise scaling.\n",
      "  warnings.warn(\n",
      "/Users/nathanshammah/github/mitiq/mitiq/zne/inference.py:107: UserWarning: The input circuit is very short. This may reduce the accuracy of noise scaling.\n",
      "  warnings.warn(\n",
      "/Users/nathanshammah/github/mitiq/mitiq/zne/inference.py:107: UserWarning: The input circuit is very short. This may reduce the accuracy of noise scaling.\n",
      "  warnings.warn(\n",
      "/Users/nathanshammah/github/mitiq/mitiq/zne/inference.py:107: UserWarning: The input circuit is very short. This may reduce the accuracy of noise scaling.\n",
      "  warnings.warn(\n"
     ]
    }
   ],
   "source": [
    "cal = Calibrator(execute, ZNESettings)\n",
    "print(cal.get_cost())\n",
    "cal.run()\n",
    "\n",
    "## could add print message from ``run_circuits(self)`` if a `verbose=True` option is verified.\n",
    "\n"
   ]
  },
  {
   "cell_type": "code",
   "execution_count": 25,
   "id": "1c3d85db",
   "metadata": {},
   "outputs": [
    {
     "name": "stdout",
     "output_type": "stream",
     "text": [
      "77\n"
     ]
    }
   ],
   "source": [
    "from mitiq.benchmarks import generate_rb_circuits\n",
    "\n",
    "circuit = generate_rb_circuits(2, 10)[0]#,trials=3)#[0]\n",
    "print(len(circuit))"
   ]
  },
  {
   "cell_type": "code",
   "execution_count": 27,
   "id": "a6e91ebd",
   "metadata": {},
   "outputs": [
    {
     "data": {
      "text/html": [
       "<pre style=\"overflow: auto; white-space: pre;\">0: ───X───────Y^0.5───@───Y^-0.5───@───Y^0.5────@───Y^-0.5───X^0.5───Y^-0.5───@───Y^0.5────@───Y───────X^0.5───X───────Y^0.5────────────@───Y^0.5────X^0.5────Y^-0.5───X^0.5────Y^-0.5───────────@───X^0─────X^-0.5───Y^0─────@───Y^-0.5───@───Y^0.5────@───X^0.5───Y^-0.5───────────@───Y^0.5────@───Y────────X^0.5───X────────Y^0.5───@───Y^-0.5───@───Y^0.5────@───Y^-0.5───X^-0.5───────────────────@───Y^0.5────@───X^-0.5───Y^-0.5───X^0.5───X───Y^-0.5───@───X^-0.5───Y^-0.5───Y^0.5────X^0.5───@───Y^0.5────@───Y───────X^0.5───Y^-0.5───X^0.5──────────@───X^-0.5───Y^-0.5───\n",
       "                      │            │            │                             │            │                                            │                                                        │                            │            │            │                            │            │                                     │            │            │                                     │            │                                          │                                      │            │                                           │\n",
       "1: ───Y^0.5───X^0─────@───Y^0.5────@───Y^-0.5───@───Y^0.5────Y^0.5───X^-0.5───@───X^-0.5───@───X^0.5───Y^0.5───X^0.5───Y───────X^-0.5───@───X^-0.5───Y^-0.5───X^0.5────Y^-0.5───X^-0.5───Y^0.5───@───Y^0.5───Y^0.5────X^0.5───@───Y^0.5────@───Y^-0.5───@───Y^0.5───X^-0.5───Y^0.5───@───X^-0.5───@───Y^-0.5───Y───────X^-0.5───────────@───Y^0.5────@───Y^-0.5───@───Y^0.5────Y^0.5────X^0.5───Y^0.5───@───X^-0.5───@───Y^-0.5───X^0.5────Y^0──────────────────@───Y^0.5────Y^-0.5───X^-0.5───────────@───X^-0.5───@───X^0.5───Y^0.5───X^0.5────Y^-0.5───X^0───@───Y^0.5─────────────</pre>"
      ],
      "text/plain": [
       "0: ───X───────Y^0.5───@───Y^-0.5───@───Y^0.5────@───Y^-0.5───X^0.5───Y^-0.5───@───Y^0.5────@───Y───────X^0.5───X───────Y^0.5────────────@───Y^0.5────X^0.5────Y^-0.5───X^0.5────Y^-0.5───────────@───X^0─────X^-0.5───Y^0─────@───Y^-0.5───@───Y^0.5────@───X^0.5───Y^-0.5───────────@───Y^0.5────@───Y────────X^0.5───X────────Y^0.5───@───Y^-0.5───@───Y^0.5────@───Y^-0.5───X^-0.5───────────────────@───Y^0.5────@───X^-0.5───Y^-0.5───X^0.5───X───Y^-0.5───@───X^-0.5───Y^-0.5───Y^0.5────X^0.5───@───Y^0.5────@───Y───────X^0.5───Y^-0.5───X^0.5──────────@───X^-0.5───Y^-0.5───\n",
       "                      │            │            │                             │            │                                            │                                                        │                            │            │            │                            │            │                                     │            │            │                                     │            │                                          │                                      │            │                                           │\n",
       "1: ───Y^0.5───X^0─────@───Y^0.5────@───Y^-0.5───@───Y^0.5────Y^0.5───X^-0.5───@───X^-0.5───@───X^0.5───Y^0.5───X^0.5───Y───────X^-0.5───@───X^-0.5───Y^-0.5───X^0.5────Y^-0.5───X^-0.5───Y^0.5───@───Y^0.5───Y^0.5────X^0.5───@───Y^0.5────@───Y^-0.5───@───Y^0.5───X^-0.5───Y^0.5───@───X^-0.5───@───Y^-0.5───Y───────X^-0.5───────────@───Y^0.5────@───Y^-0.5───@───Y^0.5────Y^0.5────X^0.5───Y^0.5───@───X^-0.5───@───Y^-0.5───X^0.5────Y^0──────────────────@───Y^0.5────Y^-0.5───X^-0.5───────────@───X^-0.5───@───X^0.5───Y^0.5───X^0.5────Y^-0.5───X^0───@───Y^0.5─────────────"
      ]
     },
     "execution_count": 27,
     "metadata": {},
     "output_type": "execute_result"
    }
   ],
   "source": [
    "circuit"
   ]
  },
  {
   "cell_type": "code",
   "execution_count": 28,
   "id": "e37cfeda",
   "metadata": {},
   "outputs": [],
   "source": [
    "# circuits passed to an executor returning bitstrings must contain measurements\n",
    "circuit.append(cirq.measure(circuit.all_qubits()))"
   ]
  },
  {
   "cell_type": "code",
   "execution_count": 9,
   "id": "d41ddcf5",
   "metadata": {},
   "outputs": [
    {
     "data": {
      "text/plain": [
       "1.4166545675009456"
      ]
     },
     "execution_count": 9,
     "metadata": {},
     "output_type": "execute_result"
    }
   ],
   "source": [
    "def execute(circuit, noise_level=0.001):\n",
    "    circuit = circuit.with_noise(cirq.amplitude_damp(noise_level))\n",
    "\n",
    "    rho = (\n",
    "        cirq.DensityMatrixSimulator()\n",
    "        .simulate(circuit)\n",
    "        .final_density_matrix\n",
    "    )\n",
    "    return rho[0, 0].real\n",
    "\n",
    "execute_with_mitigation(circuit, execute, calibrator=cal)"
   ]
  },
  {
   "cell_type": "code",
   "execution_count": 31,
   "id": "dd6aa53f",
   "metadata": {},
   "outputs": [
    {
     "data": {
      "text/plain": [
       "0.9999978542327875"
      ]
     },
     "execution_count": 31,
     "metadata": {},
     "output_type": "execute_result"
    }
   ],
   "source": [
    "from mitiq.zne import *\n",
    "def execute(circuit, noise_level=0.001):\n",
    "    circuit = circuit.with_noise(cirq.amplitude_damp(noise_level))\n",
    "\n",
    "    rho = (\n",
    "        cirq.DensityMatrixSimulator()\n",
    "        .simulate(circuit)\n",
    "        .final_density_matrix\n",
    "    )\n",
    "    return rho[0, 0].real\n",
    "\n",
    "execute_with_zne(circuit, execute)"
   ]
  },
  {
   "cell_type": "code",
   "execution_count": null,
   "id": "34249adc",
   "metadata": {},
   "outputs": [],
   "source": []
  }
 ],
 "metadata": {
  "kernelspec": {
   "display_name": "Python 3 (ipykernel)",
   "language": "python",
   "name": "python3"
  },
  "language_info": {
   "codemirror_mode": {
    "name": "ipython",
    "version": 3
   },
   "file_extension": ".py",
   "mimetype": "text/x-python",
   "name": "python",
   "nbconvert_exporter": "python",
   "pygments_lexer": "ipython3",
   "version": "3.9.12"
  }
 },
 "nbformat": 4,
 "nbformat_minor": 5
}
